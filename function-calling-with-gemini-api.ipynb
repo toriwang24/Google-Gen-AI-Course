{
 "cells": [
  {
   "cell_type": "markdown",
   "id": "385c361f",
   "metadata": {
    "papermill": {
     "duration": 0.005404,
     "end_time": "2025-01-06T23:21:44.178802",
     "exception": false,
     "start_time": "2025-01-06T23:21:44.173398",
     "status": "completed"
    },
    "tags": []
   },
   "source": [
    "# Day 3 - Function calling with the Gemini API\n",
    "\n",
    "Welcome back to the Kaggle 5-day Generative AI course!\n",
    "\n",
    "In this notebook, you will use the Gemini API's automatic function calling to build a chat interface over a local database. This example is a toy and is missing a number of safety and security constraints you would use in a real-world example.\n",
    "\n",
    "## For help\n",
    "\n",
    "**Common issues are covered in the [FAQ and troubleshooting guide](https://www.kaggle.com/code/markishere/day-0-troubleshooting-and-faqs).**"
   ]
  },
  {
   "cell_type": "code",
   "execution_count": 1,
   "id": "6308d939",
   "metadata": {
    "execution": {
     "iopub.execute_input": "2025-01-06T23:21:44.190500Z",
     "iopub.status.busy": "2025-01-06T23:21:44.190089Z",
     "iopub.status.idle": "2025-01-06T23:22:09.684453Z",
     "shell.execute_reply": "2025-01-06T23:22:09.682677Z"
    },
    "papermill": {
     "duration": 25.502077,
     "end_time": "2025-01-06T23:22:09.686581",
     "exception": false,
     "start_time": "2025-01-06T23:21:44.184504",
     "status": "completed"
    },
    "tags": []
   },
   "outputs": [
    {
     "name": "stdout",
     "output_type": "stream",
     "text": [
      "\u001b[2K   \u001b[90m━━━━━━━━━━━━━━━━━━━━━━━━━━━━━━━━━━━━━━━━\u001b[0m \u001b[32m160.8/160.8 kB\u001b[0m \u001b[31m4.1 MB/s\u001b[0m eta \u001b[36m0:00:00\u001b[0m\r\n",
      "\u001b[2K   \u001b[90m━━━━━━━━━━━━━━━━━━━━━━━━━━━━━━━━━━━━━━━━\u001b[0m \u001b[32m760.0/760.0 kB\u001b[0m \u001b[31m20.2 MB/s\u001b[0m eta \u001b[36m0:00:00\u001b[0m\r\n",
      "\u001b[?25hNote: you may need to restart the kernel to use updated packages.\n"
     ]
    }
   ],
   "source": [
    "%pip install -q -U 'google-generativeai>=0.8.3'"
   ]
  },
  {
   "cell_type": "code",
   "execution_count": 2,
   "id": "5ed1bce9",
   "metadata": {
    "execution": {
     "iopub.execute_input": "2025-01-06T23:22:09.698759Z",
     "iopub.status.busy": "2025-01-06T23:22:09.698352Z",
     "iopub.status.idle": "2025-01-06T23:22:10.950160Z",
     "shell.execute_reply": "2025-01-06T23:22:10.948986Z"
    },
    "papermill": {
     "duration": 1.260407,
     "end_time": "2025-01-06T23:22:10.952485",
     "exception": false,
     "start_time": "2025-01-06T23:22:09.692078",
     "status": "completed"
    },
    "tags": []
   },
   "outputs": [],
   "source": [
    "import google.generativeai as genai"
   ]
  },
  {
   "cell_type": "code",
   "execution_count": 3,
   "id": "937d56b1",
   "metadata": {
    "execution": {
     "iopub.execute_input": "2025-01-06T23:22:10.964973Z",
     "iopub.status.busy": "2025-01-06T23:22:10.964308Z",
     "iopub.status.idle": "2025-01-06T23:22:11.215900Z",
     "shell.execute_reply": "2025-01-06T23:22:11.214578Z"
    },
    "papermill": {
     "duration": 0.260144,
     "end_time": "2025-01-06T23:22:11.218213",
     "exception": false,
     "start_time": "2025-01-06T23:22:10.958069",
     "status": "completed"
    },
    "tags": []
   },
   "outputs": [],
   "source": [
    "from kaggle_secrets import UserSecretsClient\n",
    "\n",
    "GOOGLE_API_KEY = UserSecretsClient().get_secret(\"GOOGLE_API_KEY\")\n",
    "genai.configure(api_key=GOOGLE_API_KEY)"
   ]
  },
  {
   "cell_type": "markdown",
   "id": "3f8a0e38",
   "metadata": {
    "papermill": {
     "duration": 0.004586,
     "end_time": "2025-01-06T23:22:11.228038",
     "exception": false,
     "start_time": "2025-01-06T23:22:11.223452",
     "status": "completed"
    },
    "tags": []
   },
   "source": [
    "## Create Local Database\n",
    "\n",
    "For this minimal example, you'll create a local SQLite database and add some synthetic data so you have something to query.\n",
    "\n",
    "Load the sql IPython extension so you can interact with the database using magic commands (the % instructions) to create a new, empty SQLite database."
   ]
  },
  {
   "cell_type": "code",
   "execution_count": 4,
   "id": "7b93ddec",
   "metadata": {
    "execution": {
     "iopub.execute_input": "2025-01-06T23:22:11.238982Z",
     "iopub.status.busy": "2025-01-06T23:22:11.238536Z",
     "iopub.status.idle": "2025-01-06T23:22:12.447720Z",
     "shell.execute_reply": "2025-01-06T23:22:12.446404Z"
    },
    "papermill": {
     "duration": 1.217151,
     "end_time": "2025-01-06T23:22:12.449783",
     "exception": false,
     "start_time": "2025-01-06T23:22:11.232632",
     "status": "completed"
    },
    "tags": []
   },
   "outputs": [],
   "source": [
    "%load_ext sql\n",
    "%sql sqlite:///sample.db"
   ]
  },
  {
   "cell_type": "code",
   "execution_count": 5,
   "id": "5bc87e18",
   "metadata": {
    "execution": {
     "iopub.execute_input": "2025-01-06T23:22:12.461235Z",
     "iopub.status.busy": "2025-01-06T23:22:12.460536Z",
     "iopub.status.idle": "2025-01-06T23:22:12.548325Z",
     "shell.execute_reply": "2025-01-06T23:22:12.547079Z"
    },
    "papermill": {
     "duration": 0.095443,
     "end_time": "2025-01-06T23:22:12.550231",
     "exception": false,
     "start_time": "2025-01-06T23:22:12.454788",
     "status": "completed"
    },
    "tags": []
   },
   "outputs": [
    {
     "name": "stdout",
     "output_type": "stream",
     "text": [
      " * sqlite:///sample.db\n",
      "Done.\n",
      "Done.\n",
      "Done.\n",
      "3 rows affected.\n",
      "3 rows affected.\n",
      "3 rows affected.\n"
     ]
    },
    {
     "data": {
      "text/plain": [
       "[]"
      ]
     },
     "execution_count": 5,
     "metadata": {},
     "output_type": "execute_result"
    }
   ],
   "source": [
    "%%sql\n",
    "-- Create the 'products' table\n",
    "CREATE TABLE IF NOT EXISTS products (\n",
    "  \tproduct_id INTEGER PRIMARY KEY AUTOINCREMENT,\n",
    "  \tproduct_name VARCHAR(255) NOT NULL,\n",
    "  \tprice DECIMAL(10, 2) NOT NULL\n",
    "  );\n",
    "\n",
    "-- Create the 'staff' table\n",
    "CREATE TABLE IF NOT EXISTS staff (\n",
    "  \tstaff_id INTEGER PRIMARY KEY AUTOINCREMENT,\n",
    "  \tfirst_name VARCHAR(255) NOT NULL,\n",
    "  \tlast_name VARCHAR(255) NOT NULL\n",
    "  );\n",
    "\n",
    "-- Create the 'orders' table\n",
    "CREATE TABLE IF NOT EXISTS orders (\n",
    "  \torder_id INTEGER PRIMARY KEY AUTOINCREMENT,\n",
    "  \tcustomer_name VARCHAR(255) NOT NULL,\n",
    "  \tstaff_id INTEGER NOT NULL,\n",
    "  \tproduct_id INTEGER NOT NULL,\n",
    "  \tFOREIGN KEY (staff_id) REFERENCES staff (staff_id),\n",
    "  \tFOREIGN KEY (product_id) REFERENCES products (product_id)\n",
    "  );\n",
    "\n",
    "-- Insert data into the 'products' table\n",
    "INSERT INTO products (product_name, price) VALUES\n",
    "  \t('Laptop', 799.99),\n",
    "  \t('Keyboard', 129.99),\n",
    "  \t('Mouse', 29.99);\n",
    "\n",
    "-- Insert data into the 'staff' table\n",
    "INSERT INTO staff (first_name, last_name) VALUES\n",
    "  \t('Alice', 'Smith'),\n",
    "  \t('Bob', 'Johnson'),\n",
    "  \t('Charlie', 'Williams');\n",
    "\n",
    "-- Insert data into the 'orders' table\n",
    "INSERT INTO orders (customer_name, staff_id, product_id) VALUES\n",
    "  \t('David Lee', 1, 1),\n",
    "  \t('Emily Chen', 2, 2),\n",
    "  \t('Frank Brown', 1, 3);"
   ]
  },
  {
   "cell_type": "markdown",
   "id": "9f2a2678",
   "metadata": {
    "papermill": {
     "duration": 0.004745,
     "end_time": "2025-01-06T23:22:12.560251",
     "exception": false,
     "start_time": "2025-01-06T23:22:12.555506",
     "status": "completed"
    },
    "tags": []
   },
   "source": [
    "## Define database functions\n",
    "\n",
    "Function calling with Gemini API's Python SDK can be implemented by defining [an OpenAPI schema](https://ai.google.dev/api/caching#Schema) that is passed to the model. Alternatively you can define Python functions and let the SDK inspect them to automatically define the schema. In this latter case, it's important that the functions are type annotated and have accurate docstrings that describe what the functions do - the model has no insight into the function body, so the docs function as the interface.\n",
    "\n",
    "By providing three key pieces of functionality - listing tables, describing a table, and executing a query - the LLM (or even another user) will have the basic tools needed to understand and interrogate the database.\n",
    "\n",
    "Start with a database connection that will be used across all of the functions."
   ]
  },
  {
   "cell_type": "code",
   "execution_count": 6,
   "id": "d5816508",
   "metadata": {
    "execution": {
     "iopub.execute_input": "2025-01-06T23:22:12.571503Z",
     "iopub.status.busy": "2025-01-06T23:22:12.571115Z",
     "iopub.status.idle": "2025-01-06T23:22:12.576176Z",
     "shell.execute_reply": "2025-01-06T23:22:12.575121Z"
    },
    "papermill": {
     "duration": 0.013231,
     "end_time": "2025-01-06T23:22:12.578318",
     "exception": false,
     "start_time": "2025-01-06T23:22:12.565087",
     "status": "completed"
    },
    "tags": []
   },
   "outputs": [],
   "source": [
    "import sqlite3\n",
    "\n",
    "db_file = \"sample.db\"\n",
    "db_conn = sqlite3.connect(db_file)"
   ]
  },
  {
   "cell_type": "code",
   "execution_count": 7,
   "id": "520bb7a2",
   "metadata": {
    "execution": {
     "iopub.execute_input": "2025-01-06T23:22:12.590294Z",
     "iopub.status.busy": "2025-01-06T23:22:12.589938Z",
     "iopub.status.idle": "2025-01-06T23:22:12.598658Z",
     "shell.execute_reply": "2025-01-06T23:22:12.597597Z"
    },
    "papermill": {
     "duration": 0.016729,
     "end_time": "2025-01-06T23:22:12.600442",
     "exception": false,
     "start_time": "2025-01-06T23:22:12.583713",
     "status": "completed"
    },
    "tags": []
   },
   "outputs": [
    {
     "name": "stdout",
     "output_type": "stream",
     "text": [
      " - DB CALL: list_tables\n"
     ]
    },
    {
     "data": {
      "text/plain": [
       "['products', 'sqlite_sequence', 'staff', 'orders']"
      ]
     },
     "execution_count": 7,
     "metadata": {},
     "output_type": "execute_result"
    }
   ],
   "source": [
    "# Function to list all available tables in database\n",
    "def list_tables() -> list[str]:\n",
    "    \"\"\"Retrieve the names of all tables in the database.\"\"\"\n",
    "    # Include print logging statements so you can see when functions are being called.\n",
    "    print(' - DB CALL: list_tables')\n",
    "\n",
    "    cursor = db_conn.cursor()\n",
    "\n",
    "    # Fetch the table names.\n",
    "    cursor.execute(\"SELECT name FROM sqlite_master WHERE type='table';\")\n",
    "\n",
    "    tables = cursor.fetchall()\n",
    "    return [t[0] for t in tables]\n",
    "\n",
    "\n",
    "list_tables()"
   ]
  },
  {
   "cell_type": "code",
   "execution_count": 8,
   "id": "fe81a852",
   "metadata": {
    "execution": {
     "iopub.execute_input": "2025-01-06T23:22:12.613028Z",
     "iopub.status.busy": "2025-01-06T23:22:12.612639Z",
     "iopub.status.idle": "2025-01-06T23:22:12.621916Z",
     "shell.execute_reply": "2025-01-06T23:22:12.620720Z"
    },
    "papermill": {
     "duration": 0.017753,
     "end_time": "2025-01-06T23:22:12.623890",
     "exception": false,
     "start_time": "2025-01-06T23:22:12.606137",
     "status": "completed"
    },
    "tags": []
   },
   "outputs": [
    {
     "name": "stdout",
     "output_type": "stream",
     "text": [
      " - DB CALL: describe_table\n"
     ]
    },
    {
     "data": {
      "text/plain": [
       "[('product_id', 'INTEGER'),\n",
       " ('product_name', 'VARCHAR(255)'),\n",
       " ('price', 'DECIMAL(10, 2)')]"
      ]
     },
     "execution_count": 8,
     "metadata": {},
     "output_type": "execute_result"
    }
   ],
   "source": [
    "# Function ot define what columns are in a given table\n",
    "def describe_table(table_name: str) -> list[tuple[str, str]]:\n",
    "    \"\"\"Look up the table schema.\n",
    "\n",
    "    Returns:\n",
    "      List of columns, where each entry is a tuple of (column, type).\n",
    "    \"\"\"\n",
    "    print(' - DB CALL: describe_table')\n",
    "\n",
    "    cursor = db_conn.cursor()\n",
    "\n",
    "    cursor.execute(f\"PRAGMA table_info({table_name});\")\n",
    "\n",
    "    schema = cursor.fetchall()\n",
    "    # [column index, column name, column type, ...]\n",
    "    return [(col[1], col[2]) for col in schema]\n",
    "\n",
    "\n",
    "describe_table(\"products\")"
   ]
  },
  {
   "cell_type": "code",
   "execution_count": 9,
   "id": "b7f8171d",
   "metadata": {
    "execution": {
     "iopub.execute_input": "2025-01-06T23:22:12.637000Z",
     "iopub.status.busy": "2025-01-06T23:22:12.636552Z",
     "iopub.status.idle": "2025-01-06T23:22:12.645980Z",
     "shell.execute_reply": "2025-01-06T23:22:12.644744Z"
    },
    "papermill": {
     "duration": 0.01826,
     "end_time": "2025-01-06T23:22:12.647813",
     "exception": false,
     "start_time": "2025-01-06T23:22:12.629553",
     "status": "completed"
    },
    "tags": []
   },
   "outputs": [
    {
     "name": "stdout",
     "output_type": "stream",
     "text": [
      " - DB CALL: execute_query\n"
     ]
    },
    {
     "data": {
      "text/plain": [
       "[(1, 'Laptop', 799.99), (2, 'Keyboard', 129.99), (3, 'Mouse', 29.99)]"
      ]
     },
     "execution_count": 9,
     "metadata": {},
     "output_type": "execute_result"
    }
   ],
   "source": [
    "#Function to run sql queries\n",
    "def execute_query(sql: str) -> list[list[str]]:\n",
    "    \"\"\"Execute a SELECT statement, returning the results.\"\"\"\n",
    "    print(' - DB CALL: execute_query')\n",
    "\n",
    "    cursor = db_conn.cursor()\n",
    "\n",
    "    cursor.execute(sql)\n",
    "    return cursor.fetchall()\n",
    "\n",
    "\n",
    "execute_query(\"select * from products\")"
   ]
  },
  {
   "cell_type": "markdown",
   "id": "e67a3c4c",
   "metadata": {
    "papermill": {
     "duration": 0.005092,
     "end_time": "2025-01-06T23:22:12.658696",
     "exception": false,
     "start_time": "2025-01-06T23:22:12.653604",
     "status": "completed"
    },
    "tags": []
   },
   "source": [
    "## Implement function calls\n",
    "\n",
    "Now you can put it all together in a call to the Gemini API.\n",
    "\n",
    "Function calling works by adding specific messages to a chat session. When function schemas are defined and made available to the model and a conversation is started, instead of returning a text response, the model may return a `function_call` instead. When this happens, the client must respond with a `function_response`, indicating the result of the call, and the conversation can continue on as normal.\n",
    "\n",
    "This function calling interaction normally happens manually, allowing you, the client, to validate and initiate the call. However the Python SDK also supports **automatic function calling**, where the supplied functions will be automatically invoked. This is a powerful feature and should only be exposed when it is safe to do so, such as when the functions have no [side-effects](https://en.wikipedia.org/wiki/Side_effect_(computer_science)).\n",
    "\n",
    "Here's the state diagram representing the conversation flow with function calling. With automatic function calling, the bottom row is executed automatically by the Python SDK. In manual function calling, you write the code to run each step individually.\n",
    "\n",
    "![function calling state diagram](https://codelabs.developers.google.com/static/codelabs/gemini-function-calling/img/gemini-function-calling-overview_1440.png)"
   ]
  },
  {
   "cell_type": "code",
   "execution_count": 10,
   "id": "0e4f14b9",
   "metadata": {
    "execution": {
     "iopub.execute_input": "2025-01-06T23:22:12.671546Z",
     "iopub.status.busy": "2025-01-06T23:22:12.671162Z",
     "iopub.status.idle": "2025-01-06T23:22:12.913091Z",
     "shell.execute_reply": "2025-01-06T23:22:12.911709Z"
    },
    "papermill": {
     "duration": 0.25078,
     "end_time": "2025-01-06T23:22:12.915425",
     "exception": false,
     "start_time": "2025-01-06T23:22:12.664645",
     "status": "completed"
    },
    "tags": []
   },
   "outputs": [],
   "source": [
    "# These are the Python functions defined above.\n",
    "db_tools = [list_tables, describe_table, execute_query]\n",
    "\n",
    "instruction = \"\"\"You are a helpful chatbot that can interact with an SQL database for a computer\n",
    "store. You will take the users questions and turn them into SQL queries using the tools\n",
    "available. Once you have the information you need, you will answer the user's question using\n",
    "the data returned. Use list_tables to see what tables are present, describe_table to understand\n",
    "the schema, and execute_query to issue an SQL SELECT query.\"\"\"\n",
    "\n",
    "model = genai.GenerativeModel(\n",
    "    \"models/gemini-1.5-flash-latest\", tools=db_tools, system_instruction=instruction\n",
    ")\n",
    "\n",
    "# Define a retry policy. The model might make multiple consecutive calls automatically\n",
    "# for a complex query, this ensures the client retries if it hits quota limits.\n",
    "from google.api_core import retry\n",
    "\n",
    "retry_policy = {\"retry\": retry.Retry(predicate=retry.if_transient_error)}\n",
    "\n",
    "# Start a chat with automatic function calling enabled.\n",
    "chat = model.start_chat(enable_automatic_function_calling=True)"
   ]
  },
  {
   "cell_type": "markdown",
   "id": "c86613d1",
   "metadata": {
    "papermill": {
     "duration": 0.00515,
     "end_time": "2025-01-06T23:22:12.926277",
     "exception": false,
     "start_time": "2025-01-06T23:22:12.921127",
     "status": "completed"
    },
    "tags": []
   },
   "source": [
    "Engage in chat conversation where you can ask about contents of a database"
   ]
  },
  {
   "cell_type": "code",
   "execution_count": 11,
   "id": "3356f313",
   "metadata": {
    "execution": {
     "iopub.execute_input": "2025-01-06T23:22:12.938894Z",
     "iopub.status.busy": "2025-01-06T23:22:12.938444Z",
     "iopub.status.idle": "2025-01-06T23:22:15.392681Z",
     "shell.execute_reply": "2025-01-06T23:22:15.391211Z"
    },
    "papermill": {
     "duration": 2.462882,
     "end_time": "2025-01-06T23:22:15.394736",
     "exception": false,
     "start_time": "2025-01-06T23:22:12.931854",
     "status": "completed"
    },
    "tags": []
   },
   "outputs": [
    {
     "name": "stdout",
     "output_type": "stream",
     "text": [
      " - DB CALL: list_tables\n",
      " - DB CALL: describe_table\n",
      " - DB CALL: execute_query\n",
      "The cheapest product is the Mouse, costing $29.99.\n",
      "\n"
     ]
    }
   ],
   "source": [
    "resp = chat.send_message(\"What is the cheapest product?\", request_options=retry_policy)\n",
    "print(resp.text)"
   ]
  },
  {
   "cell_type": "markdown",
   "id": "901a7ed5",
   "metadata": {
    "papermill": {
     "duration": 0.005242,
     "end_time": "2025-01-06T23:22:15.406110",
     "exception": false,
     "start_time": "2025-01-06T23:22:15.400868",
     "status": "completed"
    },
    "tags": []
   },
   "source": [
    "If you re-use the same ChatSession object, the conversation will continue statefully. If you wish to start fresh, you can call start_chat again, or call rewind on the chat object to go back a turn.\n",
    "\n",
    "Continue the chat here by asking a follow-up question. Note that the database information is preserved, and the context of the specific product is inferred."
   ]
  },
  {
   "cell_type": "code",
   "execution_count": 12,
   "id": "e7e40383",
   "metadata": {
    "execution": {
     "iopub.execute_input": "2025-01-06T23:22:15.418767Z",
     "iopub.status.busy": "2025-01-06T23:22:15.418293Z",
     "iopub.status.idle": "2025-01-06T23:22:15.851390Z",
     "shell.execute_reply": "2025-01-06T23:22:15.849758Z"
    },
    "papermill": {
     "duration": 0.442141,
     "end_time": "2025-01-06T23:22:15.853719",
     "exception": false,
     "start_time": "2025-01-06T23:22:15.411578",
     "status": "completed"
    },
    "tags": []
   },
   "outputs": [
    {
     "name": "stdout",
     "output_type": "stream",
     "text": [
      "The Mouse costs $29.99.\n",
      "\n"
     ]
    }
   ],
   "source": [
    "resp = chat.send_message(\"and how much is it?\", request_options=retry_policy)\n",
    "print(resp.text)"
   ]
  },
  {
   "cell_type": "markdown",
   "id": "083c2f8c",
   "metadata": {
    "papermill": {
     "duration": 0.00539,
     "end_time": "2025-01-06T23:22:15.865459",
     "exception": false,
     "start_time": "2025-01-06T23:22:15.860069",
     "status": "completed"
    },
    "tags": []
   },
   "source": [
    "Explore the chat session and ask your own questions. If you want to try asking more complex questions, try using the `gemini-1.5-pro` model. It has a lower rate limit, so calls might take a bit longer on the free tier, but you'll notice an improvement in expressivity."
   ]
  },
  {
   "cell_type": "code",
   "execution_count": 13,
   "id": "00022e98",
   "metadata": {
    "execution": {
     "iopub.execute_input": "2025-01-06T23:22:15.878666Z",
     "iopub.status.busy": "2025-01-06T23:22:15.878253Z",
     "iopub.status.idle": "2025-01-06T23:22:23.204644Z",
     "shell.execute_reply": "2025-01-06T23:22:23.203071Z"
    },
    "papermill": {
     "duration": 7.335358,
     "end_time": "2025-01-06T23:22:23.206685",
     "exception": false,
     "start_time": "2025-01-06T23:22:15.871327",
     "status": "completed"
    },
    "tags": []
   },
   "outputs": [
    {
     "name": "stdout",
     "output_type": "stream",
     "text": [
      " - DB CALL: list_tables\n",
      " - DB CALL: describe_table\n",
      " - DB CALL: describe_table\n",
      " - DB CALL: describe_table\n",
      " - DB CALL: execute_query\n",
      "Alice Smith sold the cheapest product.\n"
     ]
    }
   ],
   "source": [
    "model = genai.GenerativeModel(\n",
    "    \"models/gemini-1.5-pro-latest\", tools=db_tools, system_instruction=instruction\n",
    ")\n",
    "\n",
    "chat = model.start_chat(enable_automatic_function_calling=True)\n",
    "response = chat.send_message('Which salesperson sold the cheapest product?', request_options=retry_policy)\n",
    "print(response.text)"
   ]
  },
  {
   "cell_type": "markdown",
   "id": "cdcf3f55",
   "metadata": {
    "papermill": {
     "duration": 0.005991,
     "end_time": "2025-01-06T23:22:23.219406",
     "exception": false,
     "start_time": "2025-01-06T23:22:23.213415",
     "status": "completed"
    },
    "tags": []
   },
   "source": [
    "### Inspecting the conversation\n",
    "\n",
    "To see the calls that the model makes, and what the client returns in response, you can inspect `chat.history`. This helper function will print out each turn along with the relevant fields passed or returned."
   ]
  },
  {
   "cell_type": "code",
   "execution_count": 14,
   "id": "79797522",
   "metadata": {
    "execution": {
     "iopub.execute_input": "2025-01-06T23:22:23.233085Z",
     "iopub.status.busy": "2025-01-06T23:22:23.232718Z",
     "iopub.status.idle": "2025-01-06T23:22:23.248308Z",
     "shell.execute_reply": "2025-01-06T23:22:23.246635Z"
    },
    "papermill": {
     "duration": 0.025052,
     "end_time": "2025-01-06T23:22:23.250672",
     "exception": false,
     "start_time": "2025-01-06T23:22:23.225620",
     "status": "completed"
    },
    "tags": []
   },
   "outputs": [
    {
     "name": "stdout",
     "output_type": "stream",
     "text": [
      "User:\n",
      "  \"Which salesperson sold the cheapest product?\"\n",
      "\n",
      "Model:\n",
      "  Function call: list_tables()\n",
      "\n",
      "User:\n",
      "  Function response:\n",
      "    name: \"list_tables\"\n",
      "    response {\n",
      "      fields {\n",
      "        key: \"result\"\n",
      "        value {\n",
      "          list_value {\n",
      "            values {\n",
      "              string_value: \"products\"\n",
      "            }\n",
      "            values {\n",
      "              string_value: \"sqlite_sequence\"\n",
      "            }\n",
      "            values {\n",
      "              string_value: \"staff\"\n",
      "            }\n",
      "            values {\n",
      "              string_value: \"orders\"\n",
      "            }\n",
      "          }\n",
      "        }\n",
      "      }\n",
      "    }\n",
      "\n",
      "\n",
      "Model:\n",
      "  Function call: describe_table(table_name=products)\n",
      "\n",
      "User:\n",
      "  Function response:\n",
      "    name: \"describe_table\"\n",
      "    response {\n",
      "      fields {\n",
      "        key: \"result\"\n",
      "        value {\n",
      "          list_value {\n",
      "            values {\n",
      "              list_value {\n",
      "                values {\n",
      "                  string_value: \"product_id\"\n",
      "                }\n",
      "                values {\n",
      "                  string_value: \"INTEGER\"\n",
      "                }\n",
      "              }\n",
      "            }\n",
      "            values {\n",
      "              list_value {\n",
      "                values {\n",
      "                  string_value: \"product_name\"\n",
      "                }\n",
      "                values {\n",
      "                  string_value: \"VARCHAR(255)\"\n",
      "                }\n",
      "              }\n",
      "            }\n",
      "            values {\n",
      "              list_value {\n",
      "                values {\n",
      "                  string_value: \"price\"\n",
      "                }\n",
      "                values {\n",
      "                  string_value: \"DECIMAL(10, 2)\"\n",
      "                }\n",
      "              }\n",
      "            }\n",
      "          }\n",
      "        }\n",
      "      }\n",
      "    }\n",
      "\n",
      "\n",
      "Model:\n",
      "  Function call: describe_table(table_name=staff)\n",
      "\n",
      "User:\n",
      "  Function response:\n",
      "    name: \"describe_table\"\n",
      "    response {\n",
      "      fields {\n",
      "        key: \"result\"\n",
      "        value {\n",
      "          list_value {\n",
      "            values {\n",
      "              list_value {\n",
      "                values {\n",
      "                  string_value: \"staff_id\"\n",
      "                }\n",
      "                values {\n",
      "                  string_value: \"INTEGER\"\n",
      "                }\n",
      "              }\n",
      "            }\n",
      "            values {\n",
      "              list_value {\n",
      "                values {\n",
      "                  string_value: \"first_name\"\n",
      "                }\n",
      "                values {\n",
      "                  string_value: \"VARCHAR(255)\"\n",
      "                }\n",
      "              }\n",
      "            }\n",
      "            values {\n",
      "              list_value {\n",
      "                values {\n",
      "                  string_value: \"last_name\"\n",
      "                }\n",
      "                values {\n",
      "                  string_value: \"VARCHAR(255)\"\n",
      "                }\n",
      "              }\n",
      "            }\n",
      "          }\n",
      "        }\n",
      "      }\n",
      "    }\n",
      "\n",
      "\n",
      "Model:\n",
      "  Function call: describe_table(table_name=orders)\n",
      "\n",
      "User:\n",
      "  Function response:\n",
      "    name: \"describe_table\"\n",
      "    response {\n",
      "      fields {\n",
      "        key: \"result\"\n",
      "        value {\n",
      "          list_value {\n",
      "            values {\n",
      "              list_value {\n",
      "                values {\n",
      "                  string_value: \"order_id\"\n",
      "                }\n",
      "                values {\n",
      "                  string_value: \"INTEGER\"\n",
      "                }\n",
      "              }\n",
      "            }\n",
      "            values {\n",
      "              list_value {\n",
      "                values {\n",
      "                  string_value: \"customer_name\"\n",
      "                }\n",
      "                values {\n",
      "                  string_value: \"VARCHAR(255)\"\n",
      "                }\n",
      "              }\n",
      "            }\n",
      "            values {\n",
      "              list_value {\n",
      "                values {\n",
      "                  string_value: \"staff_id\"\n",
      "                }\n",
      "                values {\n",
      "                  string_value: \"INTEGER\"\n",
      "                }\n",
      "              }\n",
      "            }\n",
      "            values {\n",
      "              list_value {\n",
      "                values {\n",
      "                  string_value: \"product_id\"\n",
      "                }\n",
      "                values {\n",
      "                  string_value: \"INTEGER\"\n",
      "                }\n",
      "              }\n",
      "            }\n",
      "          }\n",
      "        }\n",
      "      }\n",
      "    }\n",
      "\n",
      "\n",
      "Model:\n",
      "  Function call: execute_query(sql=SELECT staff.first_name, staff.last_name FROM orders INNER JOIN products ON orders.product_id = products.product_id INNER JOIN staff ON orders.staff_id = staff.staff_id WHERE products.price = (SELECT MIN(price) FROM products);)\n",
      "\n",
      "User:\n",
      "  Function response:\n",
      "    name: \"execute_query\"\n",
      "    response {\n",
      "      fields {\n",
      "        key: \"result\"\n",
      "        value {\n",
      "          list_value {\n",
      "            values {\n",
      "              list_value {\n",
      "                values {\n",
      "                  string_value: \"Alice\"\n",
      "                }\n",
      "                values {\n",
      "                  string_value: \"Smith\"\n",
      "                }\n",
      "              }\n",
      "            }\n",
      "          }\n",
      "        }\n",
      "      }\n",
      "    }\n",
      "\n",
      "\n",
      "Model:\n",
      "  \"Alice Smith sold the cheapest product.\"\n",
      "\n"
     ]
    }
   ],
   "source": [
    "import textwrap\n",
    "\n",
    "\n",
    "def print_chat_turns(chat):\n",
    "    \"\"\"Prints out each turn in the chat history, including function calls and responses.\"\"\"\n",
    "    for event in chat.history:\n",
    "        print(f\"{event.role.capitalize()}:\")\n",
    "\n",
    "        for part in event.parts:\n",
    "            if txt := part.text:\n",
    "                print(f'  \"{txt}\"')\n",
    "            elif fn := part.function_call:\n",
    "                args = \", \".join(f\"{key}={val}\" for key, val in fn.args.items())\n",
    "                print(f\"  Function call: {fn.name}({args})\")\n",
    "            elif resp := part.function_response:\n",
    "                print(\"  Function response:\")\n",
    "                print(textwrap.indent(str(resp), \"    \"))\n",
    "\n",
    "        print()\n",
    "\n",
    "\n",
    "print_chat_turns(chat)"
   ]
  }
 ],
 "metadata": {
  "kaggle": {
   "accelerator": "none",
   "dataSources": [],
   "dockerImageVersionId": 30822,
   "isGpuEnabled": false,
   "isInternetEnabled": true,
   "language": "python",
   "sourceType": "notebook"
  },
  "kernelspec": {
   "display_name": "Python 3",
   "language": "python",
   "name": "python3"
  },
  "language_info": {
   "codemirror_mode": {
    "name": "ipython",
    "version": 3
   },
   "file_extension": ".py",
   "mimetype": "text/x-python",
   "name": "python",
   "nbconvert_exporter": "python",
   "pygments_lexer": "ipython3",
   "version": "3.10.12"
  },
  "papermill": {
   "default_parameters": {},
   "duration": 43.060606,
   "end_time": "2025-01-06T23:22:24.381424",
   "environment_variables": {},
   "exception": null,
   "input_path": "__notebook__.ipynb",
   "output_path": "__notebook__.ipynb",
   "parameters": {},
   "start_time": "2025-01-06T23:21:41.320818",
   "version": "2.6.0"
  }
 },
 "nbformat": 4,
 "nbformat_minor": 5
}
